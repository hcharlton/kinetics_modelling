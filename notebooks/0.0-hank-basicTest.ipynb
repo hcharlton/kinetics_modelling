{
 "cells": [
  {
   "cell_type": "code",
   "execution_count": 1,
   "metadata": {},
   "outputs": [
    {
     "name": "stderr",
     "output_type": "stream",
     "text": [
      "\u001b[32m2025-04-01 15:47:11.630\u001b[0m | \u001b[1mINFO    \u001b[0m | \u001b[36mkinetics_modelling.config\u001b[0m:\u001b[36m<module>\u001b[0m:\u001b[36m12\u001b[0m - \u001b[1mPROJ_ROOT path is: /faststorage/project/mutationalscanning/Workspaces/chcharlton/kinetics_modelling\u001b[0m\n"
     ]
    },
    {
     "data": {
      "text/plain": [
       "DataTransformerRegistry.enable('vegafusion')"
      ]
     },
     "execution_count": 1,
     "metadata": {},
     "output_type": "execute_result"
    }
   ],
   "source": [
    "from kinetics_modelling.config import PROCESSED_DATA_DIR\n",
    "import polars as pl\n",
    "import altair as alt\n",
    "alt.data_transformers.enable(\"vegafusion\")\n",
    "\n"
   ]
  },
  {
   "cell_type": "code",
   "execution_count": 2,
   "metadata": {},
   "outputs": [
    {
     "data": {
      "text/html": [
       "<div><style>\n",
       ".dataframe > thead > tr,\n",
       ".dataframe > tbody > tr {\n",
       "  text-align: right;\n",
       "  white-space: pre-wrap;\n",
       "}\n",
       "</style>\n",
       "<small>shape: (5, 35)</small><table border=\"1\" class=\"dataframe\"><thead><tr><th>contig</th><th>read_name</th><th>read_is_reverse</th><th>fn</th><th>rn</th><th>ref_center</th><th>read_center</th><th>center_seq</th><th>center_qual</th><th>center_ipd_fwd_0</th><th>center_ipd_fwd_1</th><th>center_ipd_fwd_2</th><th>center_ipd_rev_0</th><th>center_ipd_rev_1</th><th>center_ipd_rev_2</th><th>center_pw_fwd_0</th><th>center_pw_fwd_1</th><th>center_pw_fwd_2</th><th>center_pw_rev_0</th><th>center_pw_rev_1</th><th>center_pw_rev_2</th><th>center_sx_0</th><th>center_sx_1</th><th>center_sx_2</th><th>center_sm_0</th><th>center_sm_1</th><th>center_sm_2</th><th>window_sm</th><th>window_sx</th><th>window_seq</th><th>window_qual</th><th>window_ipd_fwd</th><th>window_ipd_rev</th><th>window_pw_fwd</th><th>window_pw_rev</th></tr><tr><td>str</td><td>str</td><td>bool</td><td>i64</td><td>i64</td><td>i64</td><td>i64</td><td>str</td><td>list[u8]</td><td>u16</td><td>u16</td><td>u16</td><td>u16</td><td>u16</td><td>u16</td><td>u8</td><td>u8</td><td>u8</td><td>u8</td><td>u8</td><td>u8</td><td>u8</td><td>u8</td><td>u8</td><td>u8</td><td>u8</td><td>u8</td><td>list[u16]</td><td>list[u16]</td><td>list[str]</td><td>list[u8]</td><td>list[u16]</td><td>list[u16]</td><td>list[u8]</td><td>list[u8]</td></tr></thead><tbody><tr><td>&quot;h1tg000002l&quot;</td><td>&quot;m84108_240530_140750_s2/232522…</td><td>true</td><td>6</td><td>7</td><td>3846</td><td>160</td><td>&quot;CAA&quot;</td><td>[93, 93, 93]</td><td>19</td><td>18</td><td>5</td><td>10</td><td>10</td><td>11</td><td>14</td><td>10</td><td>9</td><td>19</td><td>13</td><td>6</td><td>0</td><td>0</td><td>0</td><td>13</td><td>13</td><td>14</td><td>[13, 13, … 10]</td><td>[1, 0, … 1]</td><td>[&quot;A&quot;, &quot;A&quot;, … &quot;C&quot;]</td><td>[93, 93, … 93]</td><td>[16, 8, … 40]</td><td>[12, 12, … 19]</td><td>[12, 9, … 7]</td><td>[14, 20, … 9]</td></tr><tr><td>&quot;h1tg000002l&quot;</td><td>&quot;m84108_240530_140750_s2/232522…</td><td>true</td><td>6</td><td>7</td><td>3910</td><td>224</td><td>&quot;ATA&quot;</td><td>[93, 93, 93]</td><td>25</td><td>18</td><td>16</td><td>68</td><td>38</td><td>20</td><td>18</td><td>8</td><td>6</td><td>5</td><td>10</td><td>8</td><td>0</td><td>0</td><td>2</td><td>13</td><td>13</td><td>10</td><td>[13, 11, … 12]</td><td>[0, 2, … 2]</td><td>[&quot;A&quot;, &quot;T&quot;, … &quot;A&quot;]</td><td>[93, 93, … 93]</td><td>[18, 29, … 9]</td><td>[32, 12, … 17]</td><td>[8, 10, … 16]</td><td>[20, 15, … 12]</td></tr><tr><td>&quot;h1tg000002l&quot;</td><td>&quot;m84108_240530_140750_s2/232522…</td><td>true</td><td>6</td><td>7</td><td>3974</td><td>288</td><td>&quot;AAG&quot;</td><td>[93, 93, 93]</td><td>10</td><td>26</td><td>11</td><td>46</td><td>6</td><td>22</td><td>14</td><td>17</td><td>18</td><td>12</td><td>11</td><td>7</td><td>0</td><td>0</td><td>3</td><td>14</td><td>14</td><td>11</td><td>[13, 14, … 14]</td><td>[1, 0, … 0]</td><td>[&quot;A&quot;, &quot;T&quot;, … &quot;T&quot;]</td><td>[93, 93, … 93]</td><td>[21, 8, … 17]</td><td>[50, 31, … 10]</td><td>[10, 14, … 13]</td><td>[7, 13, … 9]</td></tr><tr><td>&quot;h1tg000002l&quot;</td><td>&quot;m84108_240530_140750_s2/232522…</td><td>true</td><td>6</td><td>7</td><td>4039</td><td>352</td><td>&quot;TAC&quot;</td><td>[93, 93, 93]</td><td>22</td><td>11</td><td>19</td><td>21</td><td>22</td><td>46</td><td>15</td><td>11</td><td>13</td><td>10</td><td>13</td><td>10</td><td>2</td><td>2</td><td>0</td><td>12</td><td>11</td><td>13</td><td>[13, 13, … 14]</td><td>[1, 0, … 0]</td><td>[&quot;T&quot;, &quot;A&quot;, … &quot;A&quot;]</td><td>[93, 93, … 93]</td><td>[10, 16, … 9]</td><td>[4, 26, … 41]</td><td>[17, 16, … 12]</td><td>[15, 27, … 5]</td></tr><tr><td>&quot;h1tg000002l&quot;</td><td>&quot;m84108_240530_140750_s2/232522…</td><td>true</td><td>6</td><td>7</td><td>4103</td><td>416</td><td>&quot;TAC&quot;</td><td>[93, 93, 93]</td><td>15</td><td>8</td><td>15</td><td>11</td><td>12</td><td>9</td><td>11</td><td>12</td><td>8</td><td>16</td><td>14</td><td>17</td><td>1</td><td>0</td><td>0</td><td>9</td><td>14</td><td>14</td><td>[12, 13, … 14]</td><td>[1, 0, … 0]</td><td>[&quot;T&quot;, &quot;A&quot;, … &quot;G&quot;]</td><td>[93, 93, … 93]</td><td>[11, 25, … 20]</td><td>[19, 25, … 8]</td><td>[12, 8, … 14]</td><td>[6, 5, … 15]</td></tr></tbody></table></div>"
      ],
      "text/plain": [
       "shape: (5, 35)\n",
       "┌────────────┬────────────┬────────────┬─────┬───┬────────────┬────────────┬───────────┬───────────┐\n",
       "│ contig     ┆ read_name  ┆ read_is_re ┆ fn  ┆ … ┆ window_ipd ┆ window_ipd ┆ window_pw ┆ window_pw │\n",
       "│ ---        ┆ ---        ┆ verse      ┆ --- ┆   ┆ _fwd       ┆ _rev       ┆ _fwd      ┆ _rev      │\n",
       "│ str        ┆ str        ┆ ---        ┆ i64 ┆   ┆ ---        ┆ ---        ┆ ---       ┆ ---       │\n",
       "│            ┆            ┆ bool       ┆     ┆   ┆ list[u16]  ┆ list[u16]  ┆ list[u8]  ┆ list[u8]  │\n",
       "╞════════════╪════════════╪════════════╪═════╪═══╪════════════╪════════════╪═══════════╪═══════════╡\n",
       "│ h1tg000002 ┆ m84108_240 ┆ true       ┆ 6   ┆ … ┆ [16, 8, …  ┆ [12, 12, … ┆ [12, 9, … ┆ [14, 20,  │\n",
       "│ l          ┆ 530_140750 ┆            ┆     ┆   ┆ 40]        ┆ 19]        ┆ 7]        ┆ … 9]      │\n",
       "│            ┆ _s2/232522 ┆            ┆     ┆   ┆            ┆            ┆           ┆           │\n",
       "│            ┆ …          ┆            ┆     ┆   ┆            ┆            ┆           ┆           │\n",
       "│ h1tg000002 ┆ m84108_240 ┆ true       ┆ 6   ┆ … ┆ [18, 29, … ┆ [32, 12, … ┆ [8, 10, … ┆ [20, 15,  │\n",
       "│ l          ┆ 530_140750 ┆            ┆     ┆   ┆ 9]         ┆ 17]        ┆ 16]       ┆ … 12]     │\n",
       "│            ┆ _s2/232522 ┆            ┆     ┆   ┆            ┆            ┆           ┆           │\n",
       "│            ┆ …          ┆            ┆     ┆   ┆            ┆            ┆           ┆           │\n",
       "│ h1tg000002 ┆ m84108_240 ┆ true       ┆ 6   ┆ … ┆ [21, 8, …  ┆ [50, 31, … ┆ [10, 14,  ┆ [7, 13, … │\n",
       "│ l          ┆ 530_140750 ┆            ┆     ┆   ┆ 17]        ┆ 10]        ┆ … 13]     ┆ 9]        │\n",
       "│            ┆ _s2/232522 ┆            ┆     ┆   ┆            ┆            ┆           ┆           │\n",
       "│            ┆ …          ┆            ┆     ┆   ┆            ┆            ┆           ┆           │\n",
       "│ h1tg000002 ┆ m84108_240 ┆ true       ┆ 6   ┆ … ┆ [10, 16, … ┆ [4, 26, …  ┆ [17, 16,  ┆ [15, 27,  │\n",
       "│ l          ┆ 530_140750 ┆            ┆     ┆   ┆ 9]         ┆ 41]        ┆ … 12]     ┆ … 5]      │\n",
       "│            ┆ _s2/232522 ┆            ┆     ┆   ┆            ┆            ┆           ┆           │\n",
       "│            ┆ …          ┆            ┆     ┆   ┆            ┆            ┆           ┆           │\n",
       "│ h1tg000002 ┆ m84108_240 ┆ true       ┆ 6   ┆ … ┆ [11, 25, … ┆ [19, 25, … ┆ [12, 8, … ┆ [6, 5, …  │\n",
       "│ l          ┆ 530_140750 ┆            ┆     ┆   ┆ 20]        ┆ 8]         ┆ 14]       ┆ 15]       │\n",
       "│            ┆ _s2/232522 ┆            ┆     ┆   ┆            ┆            ┆           ┆           │\n",
       "│            ┆ …          ┆            ┆     ┆   ┆            ┆            ┆           ┆           │\n",
       "└────────────┴────────────┴────────────┴─────┴───┴────────────┴────────────┴───────────┴───────────┘"
      ]
     },
     "execution_count": 2,
     "metadata": {},
     "output_type": "execute_result"
    }
   ],
   "source": [
    "q = (\n",
    "    pl.scan_parquet(PROCESSED_DATA_DIR / 'ob006-run1')\n",
    "    .head()\n",
    ")\n",
    "q.collect()"
   ]
  },
  {
   "cell_type": "code",
   "execution_count": 3,
   "metadata": {},
   "outputs": [],
   "source": [
    "\n",
    "q = (\n",
    "    pl.scan_parquet(PROCESSED_DATA_DIR / 'ob006-run1')\n",
    "    .select(\n",
    "        'center_qual', \n",
    "        'center_seq', \n",
    "        'fn', \n",
    "        'center_sx_0',\n",
    "        'center_sx_1',\n",
    "        'center_sx_2',\n",
    "        'center_sm_0',\n",
    "        'center_sm_1',\n",
    "        'center_sm_2',\n",
    "        'center_ipd_fwd_0', \n",
    "        'center_ipd_rev_0', \n",
    "        'center_pw_fwd_0',\n",
    "        'center_pw_rev_0',\n",
    "        'center_ipd_fwd_1', \n",
    "        'center_ipd_rev_1', \n",
    "        'center_pw_fwd_1',\n",
    "        'center_pw_rev_1',\n",
    "        'center_ipd_fwd_2', \n",
    "        'center_ipd_rev_2', \n",
    "        'center_pw_fwd_2',\n",
    "        'center_pw_rev_2',\n",
    "    )\n",
    "    .with_columns(\n",
    "        (pl.col('center_qual').list[0].alias('center_qual_0')),\n",
    "        (pl.col('center_qual').list[1].alias('center_qual_1')),\n",
    "        (pl.col('center_qual').list[2].alias('center_qual_2'))\n",
    "    )\n",
    "    .drop('center_qual')\n",
    "    .group_by('center_qual_2')\n",
    "    .agg(pl.all().head(1000))\n",
    "    .explode(pl.exclude('center_qual_2'))\n",
    "    )\n",
    "\n",
    "df = q.collect()"
   ]
  },
  {
   "cell_type": "code",
   "execution_count": 6,
   "metadata": {},
   "outputs": [],
   "source": [
    "df.write_parquet('../data/processed/ob006-run1-sample.parquet')\n"
   ]
  },
  {
   "cell_type": "code",
   "execution_count": 5,
   "metadata": {},
   "outputs": [],
   "source": [
    "from sklearn.model_selection import train_test_split\n",
    "from sklearn import linear_model\n",
    "\n",
    "X = df.select(\n",
    "    'fn', \n",
    "    'center_sx_0',\n",
    "    'center_sx_1',\n",
    "    'center_sx_2',\n",
    "    'center_sm_0',\n",
    "    'center_sm_1',\n",
    "    'center_sm_2',\n",
    "    'center_ipd_fwd_0', \n",
    "    'center_ipd_rev_0', \n",
    "    'center_pw_fwd_0',\n",
    "    'center_pw_rev_0',\n",
    "    'center_ipd_fwd_1', \n",
    "    'center_ipd_rev_1', \n",
    "    'center_pw_fwd_1',\n",
    "    'center_pw_rev_1',\n",
    "    'center_ipd_fwd_2', \n",
    "    'center_ipd_rev_2', \n",
    "    'center_pw_fwd_2',\n",
    "    'center_pw_rev_2')\n",
    "y = df.select('center_qual_2')\n",
    "\n",
    "X_train, X_test, y_train, y_test = train_test_split(X, y, test_size=0.2, random_state=1337)"
   ]
  },
  {
   "cell_type": "code",
   "execution_count": null,
   "metadata": {},
   "outputs": [],
   "source": [
    "# reg = linear_model.Lasso(alpha=.5)\n",
    "# reg.fit(X_train, y_train)"
   ]
  },
  {
   "cell_type": "code",
   "execution_count": null,
   "metadata": {},
   "outputs": [],
   "source": []
  }
 ],
 "metadata": {
  "kernelspec": {
   "display_name": "kinetics_modelling",
   "language": "python",
   "name": "python3"
  },
  "language_info": {
   "codemirror_mode": {
    "name": "ipython",
    "version": 3
   },
   "file_extension": ".py",
   "mimetype": "text/x-python",
   "name": "python",
   "nbconvert_exporter": "python",
   "pygments_lexer": "ipython3",
   "version": "3.12.7"
  }
 },
 "nbformat": 4,
 "nbformat_minor": 2
}
