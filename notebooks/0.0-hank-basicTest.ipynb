{
 "cells": [
  {
   "cell_type": "code",
   "execution_count": 1,
   "metadata": {},
   "outputs": [
    {
     "name": "stderr",
     "output_type": "stream",
     "text": [
      "\u001b[32m2025-04-02 14:25:13.883\u001b[0m | \u001b[1mINFO    \u001b[0m | \u001b[36mkinetics_modelling.config\u001b[0m:\u001b[36m<module>\u001b[0m:\u001b[36m12\u001b[0m - \u001b[1mPROJ_ROOT path is: /faststorage/project/mutationalscanning/Workspaces/chcharlton/kinetics_modelling\u001b[0m\n"
     ]
    },
    {
     "data": {
      "text/plain": [
       "<polars.config.Config at 0x7f6591ade2d0>"
      ]
     },
     "execution_count": 1,
     "metadata": {},
     "output_type": "execute_result"
    }
   ],
   "source": [
    "from kinetics_modelling.config import PROCESSED_DATA_DIR\n",
    "import polars as pl\n",
    "import altair as alt\n",
    "alt.data_transformers.enable(\"vegafusion\")\n",
    "\n",
    "pl.Config(fmt_str_lengths=100)"
   ]
  },
  {
   "cell_type": "code",
   "execution_count": 22,
   "metadata": {},
   "outputs": [
    {
     "data": {
      "text/plain": [
       "(136415773, 27)"
      ]
     },
     "execution_count": 22,
     "metadata": {},
     "output_type": "execute_result"
    }
   ],
   "source": [
    "q = (\n",
    "    pl.scan_parquet(PROCESSED_DATA_DIR / 'ob006-run2_full')\n",
    ")\n",
    "q.collect().shape\n"
   ]
  },
  {
   "cell_type": "code",
   "execution_count": null,
   "metadata": {},
   "outputs": [
    {
     "data": {
      "text/html": [
       "<div><style>\n",
       ".dataframe > thead > tr,\n",
       ".dataframe > tbody > tr {\n",
       "  text-align: right;\n",
       "  white-space: pre-wrap;\n",
       "}\n",
       "</style>\n",
       "<small>shape: (5, 2)</small><table border=\"1\" class=\"dataframe\"><thead><tr><th>center_seq</th><th>len</th></tr><tr><td>str</td><td>u32</td></tr></thead><tbody><tr><td>&quot;TAG&quot;</td><td>230459</td></tr><tr><td>&quot;GAT&quot;</td><td>234288</td></tr><tr><td>&quot;GTG&quot;</td><td>197666</td></tr><tr><td>&quot;GTT&quot;</td><td>200202</td></tr><tr><td>&quot;TCC&quot;</td><td>134721</td></tr></tbody></table></div>"
      ],
      "text/plain": [
       "shape: (5, 2)\n",
       "┌────────────┬────────┐\n",
       "│ center_seq ┆ len    │\n",
       "│ ---        ┆ ---    │\n",
       "│ str        ┆ u32    │\n",
       "╞════════════╪════════╡\n",
       "│ TAG        ┆ 230459 │\n",
       "│ GAT        ┆ 234288 │\n",
       "│ GTG        ┆ 197666 │\n",
       "│ GTT        ┆ 200202 │\n",
       "│ TCC        ┆ 134721 │\n",
       "└────────────┴────────┘"
      ]
     },
     "execution_count": 5,
     "metadata": {},
     "output_type": "execute_result"
    }
   ],
   "source": [
    "q = (\n",
    "    pl.scan_parquet(PROCESSED_DATA_DIR / 'ob006-run2_full')\n",
    "     .select(\n",
    "        'center_qual', \n",
    "        'center_seq', \n",
    "        'fn', \n",
    "        # 'center_sx_0',\n",
    "        # 'center_sx_1',\n",
    "        # 'center_sx_2',\n",
    "        # 'center_sm_0',\n",
    "        # 'center_sm_1',\n",
    "        # 'center_sm_2',\n",
    "        # 'center_ipd_fwd_0', \n",
    "        # 'center_ipd_rev_0', \n",
    "        # 'center_pw_fwd_0',\n",
    "        # 'center_pw_rev_0',\n",
    "        'center_ipd_fwd_1', \n",
    "        # 'center_ipd_rev_1', \n",
    "        # 'center_pw_fwd_1',\n",
    "        # 'center_pw_rev_1',\n",
    "        # 'center_ipd_fwd_2', \n",
    "        # 'center_ipd_rev_2', \n",
    "        # 'center_pw_fwd_2',\n",
    "        # 'center_pw_rev_2',)\n",
    "    )\n",
    "    .filter(pl.col('center_qual') == [93,93,93])\n",
    "    .group_by(pl.col('center_seq'))\n",
    "    .agg(pl.len())\n",
    "    # .unpivot(index='fn')\n",
    ")\n",
    "df=q.collect()\n",
    "df.head()\n"
   ]
  },
  {
   "cell_type": "code",
   "execution_count": 8,
   "metadata": {},
   "outputs": [
    {
     "data": {
      "text/html": [
       "<div><style>\n",
       ".dataframe > thead > tr,\n",
       ".dataframe > tbody > tr {\n",
       "  text-align: right;\n",
       "  white-space: pre-wrap;\n",
       "}\n",
       "</style>\n",
       "<small>shape: (1, 1)</small><table border=\"1\" class=\"dataframe\"><thead><tr><th>len</th></tr><tr><td>u32</td></tr></thead><tbody><tr><td>16282</td></tr></tbody></table></div>"
      ],
      "text/plain": [
       "shape: (1, 1)\n",
       "┌───────┐\n",
       "│ len   │\n",
       "│ ---   │\n",
       "│ u32   │\n",
       "╞═══════╡\n",
       "│ 16282 │\n",
       "└───────┘"
      ]
     },
     "execution_count": 8,
     "metadata": {},
     "output_type": "execute_result"
    }
   ],
   "source": [
    "df.select('len').min()"
   ]
  },
  {
   "cell_type": "code",
   "execution_count": 3,
   "metadata": {},
   "outputs": [],
   "source": [
    "\n",
    "q = (\n",
    "    pl.scan_parquet(PROCESSED_DATA_DIR / 'ob006-run1')\n",
    "    .select(\n",
    "        'center_qual', \n",
    "        'center_seq', \n",
    "        'fn', \n",
    "        'center_sx_0',\n",
    "        'center_sx_1',\n",
    "        'center_sx_2',\n",
    "        'center_sm_0',\n",
    "        'center_sm_1',\n",
    "        'center_sm_2',\n",
    "        'center_ipd_fwd_0', \n",
    "        'center_ipd_rev_0', \n",
    "        'center_pw_fwd_0',\n",
    "        'center_pw_rev_0',\n",
    "        'center_ipd_fwd_1', \n",
    "        'center_ipd_rev_1', \n",
    "        'center_pw_fwd_1',\n",
    "        'center_pw_rev_1',\n",
    "        'center_ipd_fwd_2', \n",
    "        'center_ipd_rev_2', \n",
    "        'center_pw_fwd_2',\n",
    "        'center_pw_rev_2',\n",
    "    )\n",
    "    .with_columns(\n",
    "        (pl.col('center_qual').list[0].alias('center_qual_0')),\n",
    "        (pl.col('center_qual').list[1].alias('center_qual_1')),\n",
    "        (pl.col('center_qual').list[2].alias('center_qual_2'))\n",
    "    )\n",
    "    .drop('center_qual')\n",
    "    .group_by('center_qual_2')\n",
    "    .agg(pl.all().head(1000))\n",
    "    .explode(pl.exclude('center_qual_2'))\n",
    "    )\n",
    "\n",
    "df = q.collect()"
   ]
  },
  {
   "cell_type": "code",
   "execution_count": 6,
   "metadata": {},
   "outputs": [],
   "source": [
    "df.write_parquet('../data/processed/ob006-run1-sample.parquet')\n"
   ]
  },
  {
   "cell_type": "code",
   "execution_count": 5,
   "metadata": {},
   "outputs": [],
   "source": [
    "from sklearn.model_selection import train_test_split\n",
    "from sklearn import linear_model\n",
    "\n",
    "X = df.select(\n",
    "    'fn', \n",
    "    'center_sx_0',\n",
    "    'center_sx_1',\n",
    "    'center_sx_2',\n",
    "    'center_sm_0',\n",
    "    'center_sm_1',\n",
    "    'center_sm_2',\n",
    "    'center_ipd_fwd_0', \n",
    "    'center_ipd_rev_0', \n",
    "    'center_pw_fwd_0',\n",
    "    'center_pw_rev_0',\n",
    "    'center_ipd_fwd_1', \n",
    "    'center_ipd_rev_1', \n",
    "    'center_pw_fwd_1',\n",
    "    'center_pw_rev_1',\n",
    "    'center_ipd_fwd_2', \n",
    "    'center_ipd_rev_2', \n",
    "    'center_pw_fwd_2',\n",
    "    'center_pw_rev_2')\n",
    "y = df.select('center_qual_2')\n",
    "\n",
    "X_train, X_test, y_train, y_test = train_test_split(X, y, test_size=0.2, random_state=1337)"
   ]
  },
  {
   "cell_type": "code",
   "execution_count": null,
   "metadata": {},
   "outputs": [],
   "source": [
    "# reg = linear_model.Lasso(alpha=.5)\n",
    "# reg.fit(X_train, y_train)"
   ]
  },
  {
   "cell_type": "code",
   "execution_count": null,
   "metadata": {},
   "outputs": [],
   "source": []
  }
 ],
 "metadata": {
  "kernelspec": {
   "display_name": "kinetics_modelling",
   "language": "python",
   "name": "python3"
  },
  "language_info": {
   "codemirror_mode": {
    "name": "ipython",
    "version": 3
   },
   "file_extension": ".py",
   "mimetype": "text/x-python",
   "name": "python",
   "nbconvert_exporter": "python",
   "pygments_lexer": "ipython3",
   "version": "3.12.7"
  }
 },
 "nbformat": 4,
 "nbformat_minor": 2
}
